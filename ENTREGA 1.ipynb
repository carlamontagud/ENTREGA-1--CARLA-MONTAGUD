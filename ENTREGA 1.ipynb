{
 "cells": [
  {
   "cell_type": "code",
   "execution_count": null,
   "id": "05326a03-ed04-4447-84f5-10989d6940a4",
   "metadata": {},
   "outputs": [],
   "source": [
    "Exercise 1: Print a Greeting"
   ]
  },
  {
   "cell_type": "code",
   "execution_count": 17,
   "id": "9effb3bb-cca3-454a-8181-32faf426e862",
   "metadata": {},
   "outputs": [
    {
     "name": "stdout",
     "output_type": "stream",
     "text": [
      "Hello, Python!\n"
     ]
    }
   ],
   "source": [
    "print(\"Hello, Python!\")"
   ]
  },
  {
   "cell_type": "code",
   "execution_count": null,
   "id": "83a52846-2d4e-41d6-86b0-4bd4c6c2de71",
   "metadata": {},
   "outputs": [],
   "source": [
    "Exercise 2: Basic Arithmetic"
   ]
  },
  {
   "cell_type": "code",
   "execution_count": 21,
   "id": "ab619de2-1c66-4393-b146-86aa393b7fb9",
   "metadata": {},
   "outputs": [],
   "source": [
    "a = 3"
   ]
  },
  {
   "cell_type": "code",
   "execution_count": 23,
   "id": "c23a823f-ab3e-42b3-8e5a-cf4cb61358e6",
   "metadata": {},
   "outputs": [],
   "source": [
    "b = 5"
   ]
  },
  {
   "cell_type": "code",
   "execution_count": 25,
   "id": "88fe0bc2-4614-4c56-9c28-24d8a5e518a4",
   "metadata": {},
   "outputs": [
    {
     "name": "stdout",
     "output_type": "stream",
     "text": [
      "8\n"
     ]
    }
   ],
   "source": [
    "print(a+b)"
   ]
  },
  {
   "cell_type": "code",
   "execution_count": 27,
   "id": "efecd61b-8a97-4fe5-ad85-6cd971c862d9",
   "metadata": {},
   "outputs": [
    {
     "name": "stdout",
     "output_type": "stream",
     "text": [
      "-2\n"
     ]
    }
   ],
   "source": [
    "print(a-b)"
   ]
  },
  {
   "cell_type": "code",
   "execution_count": 29,
   "id": "9562c75a-0938-4135-873f-32c24b5b97c2",
   "metadata": {},
   "outputs": [
    {
     "name": "stdout",
     "output_type": "stream",
     "text": [
      "15\n"
     ]
    }
   ],
   "source": [
    "print(a*b)"
   ]
  },
  {
   "cell_type": "code",
   "execution_count": 15,
   "id": "59ca58e1-0e0a-4e97-b421-31ce98296b20",
   "metadata": {},
   "outputs": [
    {
     "name": "stdout",
     "output_type": "stream",
     "text": [
      "0.6\n"
     ]
    }
   ],
   "source": [
    "print(a/b)"
   ]
  },
  {
   "cell_type": "code",
   "execution_count": null,
   "id": "827028ed-a8dd-4eee-9a36-3e68f85d9a53",
   "metadata": {},
   "outputs": [],
   "source": [
    "Exercise 3: String Manipulation"
   ]
  },
  {
   "cell_type": "code",
   "execution_count": 32,
   "id": "68e3c65e-576d-411f-88d3-f423a0beeaf7",
   "metadata": {},
   "outputs": [],
   "source": [
    "name = \"Carla\""
   ]
  },
  {
   "cell_type": "code",
   "execution_count": 44,
   "id": "d53c78ee-1c3a-40c7-9545-5cd59fd773c9",
   "metadata": {},
   "outputs": [
    {
     "name": "stdout",
     "output_type": "stream",
     "text": [
      "Hello, Carla!\n"
     ]
    }
   ],
   "source": [
    "print(f\"Hello, {name}!\")"
   ]
  },
  {
   "cell_type": "code",
   "execution_count": null,
   "id": "f1d9a74a-1541-4131-9109-8ea933b72e0a",
   "metadata": {},
   "outputs": [],
   "source": [
    "Exercise 4: Lists"
   ]
  },
  {
   "cell_type": "code",
   "execution_count": 75,
   "id": "eca053f5-a133-409a-a32d-55e134796102",
   "metadata": {},
   "outputs": [],
   "source": [
    "universities = [\"ESADE\", \"UAB\", \"UIB\", \"UOC\", \"IE\"]"
   ]
  },
  {
   "cell_type": "code",
   "execution_count": 77,
   "id": "0a48d73b-a1d5-4005-b009-1ab20eba990b",
   "metadata": {},
   "outputs": [
    {
     "name": "stdout",
     "output_type": "stream",
     "text": [
      "['ESADE', 'UAB', 'UIB', 'UOC', 'IE']\n"
     ]
    }
   ],
   "source": [
    "print(universities)"
   ]
  },
  {
   "cell_type": "code",
   "execution_count": 79,
   "id": "8e56ccdf-fed0-4cc0-af5c-44647e182799",
   "metadata": {},
   "outputs": [],
   "source": [
    "universities.remove(\"UAB\")"
   ]
  },
  {
   "cell_type": "code",
   "execution_count": 81,
   "id": "5e58dd7a-d147-4ea6-b5d7-379bb925227f",
   "metadata": {},
   "outputs": [
    {
     "name": "stdout",
     "output_type": "stream",
     "text": [
      "['ESADE', 'UIB', 'UOC', 'IE']\n"
     ]
    }
   ],
   "source": [
    "print(universities)"
   ]
  },
  {
   "cell_type": "code",
   "execution_count": 83,
   "id": "1d5eadfc-aa07-42a8-b298-a0f4e1970623",
   "metadata": {},
   "outputs": [],
   "source": [
    "universities.remove(\"UIB\")"
   ]
  },
  {
   "cell_type": "code",
   "execution_count": 85,
   "id": "60e7a109-1fcb-4dae-859a-b61b57eb039f",
   "metadata": {},
   "outputs": [
    {
     "name": "stdout",
     "output_type": "stream",
     "text": [
      "['ESADE', 'UOC', 'IE']\n"
     ]
    }
   ],
   "source": [
    "print(universities)"
   ]
  },
  {
   "cell_type": "code",
   "execution_count": 87,
   "id": "fd621bfd-6525-41a5-8050-79a92931e160",
   "metadata": {},
   "outputs": [],
   "source": [
    "universities.remove(\"UOC\")"
   ]
  },
  {
   "cell_type": "code",
   "execution_count": 89,
   "id": "55c9e7d4-bf06-4b34-b037-788cbe607f2f",
   "metadata": {},
   "outputs": [
    {
     "name": "stdout",
     "output_type": "stream",
     "text": [
      "['ESADE', 'IE']\n"
     ]
    }
   ],
   "source": [
    "print(universities)"
   ]
  },
  {
   "cell_type": "code",
   "execution_count": null,
   "id": "2d32baab-d3b1-4720-a980-e85e3582ff27",
   "metadata": {},
   "outputs": [],
   "source": [
    "Exercise 5: Dictionaries"
   ]
  },
  {
   "cell_type": "code",
   "execution_count": 154,
   "id": "a0018ce9-6771-4814-9c5c-4a3e645f9e3e",
   "metadata": {},
   "outputs": [],
   "source": [
    "students = {\"Ana\": {\"age\": 21, \"grade\": 8.5}, \"Pablo\": {\"age\": 22, \"grade\": 5.2}, \"Lucas\": {\"age\": 20, \"grade\": 7.3}\n",
    "}"
   ]
  },
  {
   "cell_type": "code",
   "execution_count": 162,
   "id": "5129a866-a066-4d28-baab-52b538db5c03",
   "metadata": {},
   "outputs": [
    {
     "data": {
      "text/plain": [
       "dict_keys(['Ana', 'Pablo', 'Lucas'])"
      ]
     },
     "execution_count": 162,
     "metadata": {},
     "output_type": "execute_result"
    }
   ],
   "source": [
    "students.keys()"
   ]
  },
  {
   "cell_type": "code",
   "execution_count": 166,
   "id": "ae5f99a5-3f61-48c5-b4fe-75c9b792dca9",
   "metadata": {},
   "outputs": [
    {
     "data": {
      "text/plain": [
       "dict_values([{'age': 21, 'grade': 8.5}, {'age': 22, 'grade': 5.2}, {'age': 20, 'grade': 7.3}])"
      ]
     },
     "execution_count": 166,
     "metadata": {},
     "output_type": "execute_result"
    }
   ],
   "source": [
    "students.values()"
   ]
  },
  {
   "cell_type": "code",
   "execution_count": 168,
   "id": "7673290e-9186-425c-aa5b-d348524b1cae",
   "metadata": {},
   "outputs": [
    {
     "data": {
      "text/plain": [
       "dict_items([('Ana', {'age': 21, 'grade': 8.5}), ('Pablo', {'age': 22, 'grade': 5.2}), ('Lucas', {'age': 20, 'grade': 7.3})])"
      ]
     },
     "execution_count": 168,
     "metadata": {},
     "output_type": "execute_result"
    }
   ],
   "source": [
    "students.items()"
   ]
  },
  {
   "cell_type": "code",
   "execution_count": 187,
   "id": "f74bcf23-3697-4c7c-addc-e083c76a05c7",
   "metadata": {},
   "outputs": [
    {
     "name": "stdout",
     "output_type": "stream",
     "text": [
      "Ana: {'age': 21, 'grade': 8.5}\n",
      "Pablo: {'age': 22, 'grade': 5.2}\n",
      "Lucas: {'age': 20, 'grade': 7.3}\n"
     ]
    }
   ],
   "source": [
    "for key, value in students.items():\n",
    "    print(f\"{key}: {students[key]}\")"
   ]
  },
  {
   "cell_type": "code",
   "execution_count": null,
   "id": "c6c041bf-bc96-4d76-b7c0-990944c46464",
   "metadata": {},
   "outputs": [],
   "source": [
    "Exercise 6: Tuples"
   ]
  },
  {
   "cell_type": "code",
   "execution_count": 208,
   "id": "63fdd547-f313-42e2-9fa4-07b91920d19f",
   "metadata": {},
   "outputs": [],
   "source": [
    "coordinates = (7, 9)"
   ]
  },
  {
   "cell_type": "code",
   "execution_count": 210,
   "id": "41b15a03-e5cc-4733-9f4b-d3e6ad4cfa0d",
   "metadata": {},
   "outputs": [
    {
     "data": {
      "text/plain": [
       "0"
      ]
     },
     "execution_count": 210,
     "metadata": {},
     "output_type": "execute_result"
    }
   ],
   "source": [
    "coordinates.index(7)"
   ]
  },
  {
   "cell_type": "code",
   "execution_count": 212,
   "id": "d84add19-ab00-443f-849e-42802a399e06",
   "metadata": {},
   "outputs": [
    {
     "data": {
      "text/plain": [
       "1"
      ]
     },
     "execution_count": 212,
     "metadata": {},
     "output_type": "execute_result"
    }
   ],
   "source": [
    "coordinates.index(9)"
   ]
  },
  {
   "cell_type": "code",
   "execution_count": null,
   "id": "a71038ce-234c-449a-846f-17cc952d1ccc",
   "metadata": {},
   "outputs": [],
   "source": [
    "Exercise 7: Sets"
   ]
  },
  {
   "cell_type": "code",
   "execution_count": 224,
   "id": "17f2acc1-321a-416d-b960-cdb1417a3fa0",
   "metadata": {},
   "outputs": [],
   "source": [
    "colors = {\"red\", \"green\", \"blue\"}"
   ]
  },
  {
   "cell_type": "code",
   "execution_count": 226,
   "id": "d731931a-5d9d-48fe-a3d5-eacb009ae2b2",
   "metadata": {},
   "outputs": [],
   "source": [
    "colors.add(\"purple\")"
   ]
  },
  {
   "cell_type": "code",
   "execution_count": 228,
   "id": "481e1c72-2870-4b5e-a7ba-b089363b337a",
   "metadata": {},
   "outputs": [
    {
     "name": "stdout",
     "output_type": "stream",
     "text": [
      "{'green', 'purple', 'red', 'blue'}\n"
     ]
    }
   ],
   "source": [
    "print(colors)"
   ]
  },
  {
   "cell_type": "code",
   "execution_count": 234,
   "id": "956a5217-87be-4dfe-87c7-94db581c39b1",
   "metadata": {},
   "outputs": [],
   "source": [
    "colors.add(\"red\")"
   ]
  },
  {
   "cell_type": "code",
   "execution_count": 236,
   "id": "f8b1f2a6-8051-4d33-a9e9-8985c21066de",
   "metadata": {},
   "outputs": [
    {
     "name": "stdout",
     "output_type": "stream",
     "text": [
      "{'green', 'purple', 'red', 'blue'}\n"
     ]
    }
   ],
   "source": [
    "print(colors)"
   ]
  },
  {
   "cell_type": "code",
   "execution_count": 238,
   "id": "d613cc0f-7ab5-44cd-9be0-c29a74dc3905",
   "metadata": {},
   "outputs": [],
   "source": [
    "colors.discard(\"blue\")"
   ]
  },
  {
   "cell_type": "code",
   "execution_count": 240,
   "id": "b449ab5b-9a88-4ad3-8ceb-c5b475a2f99a",
   "metadata": {},
   "outputs": [
    {
     "name": "stdout",
     "output_type": "stream",
     "text": [
      "{'green', 'purple', 'red'}\n"
     ]
    }
   ],
   "source": [
    "print(colors)"
   ]
  },
  {
   "cell_type": "code",
   "execution_count": 242,
   "id": "792ab659-6256-4e16-b27d-f85d4d8b2a50",
   "metadata": {},
   "outputs": [],
   "source": [
    "light_colors = {\"cream\", \"aqua\", \"peach\"}"
   ]
  },
  {
   "cell_type": "code",
   "execution_count": 246,
   "id": "5affcb00-4e86-4fdb-87c8-f2ba2eaf493e",
   "metadata": {},
   "outputs": [],
   "source": [
    "merged_set = colors | light_colors"
   ]
  },
  {
   "cell_type": "code",
   "execution_count": 248,
   "id": "ee07cc77-3b64-432a-9066-899ca69b24ac",
   "metadata": {},
   "outputs": [
    {
     "name": "stdout",
     "output_type": "stream",
     "text": [
      "{'green', 'purple', 'aqua', 'peach', 'cream', 'red'}\n"
     ]
    }
   ],
   "source": [
    "print(merged_set)"
   ]
  },
  {
   "cell_type": "code",
   "execution_count": null,
   "id": "c0ded57a-d69d-4aa5-8e01-1ba9a317ad00",
   "metadata": {},
   "outputs": [],
   "source": [
    "Exercise 8: Conditional Statements"
   ]
  },
  {
   "cell_type": "code",
   "execution_count": 251,
   "id": "cfea39e8-8391-4054-a701-a08aa4c538f7",
   "metadata": {},
   "outputs": [],
   "source": [
    "number = 5"
   ]
  },
  {
   "cell_type": "code",
   "execution_count": 257,
   "id": "830331ec-ba20-4b97-b04a-5e53fcc988f5",
   "metadata": {},
   "outputs": [
    {
     "name": "stdout",
     "output_type": "stream",
     "text": [
      "The number is positive.\n"
     ]
    }
   ],
   "source": [
    "if number < 0:\n",
    "  print(\"The number is negative.\")\n",
    "elif number > 0:\n",
    "    print(\"The number is positive.\")\n",
    "else:\n",
    "    print(\"The number is zero.\")"
   ]
  },
  {
   "cell_type": "code",
   "execution_count": null,
   "id": "c833aba8-8002-4b3a-8a63-1ed8f071a6ab",
   "metadata": {},
   "outputs": [],
   "source": [
    "Exercise 9: For Loop"
   ]
  },
  {
   "cell_type": "code",
   "execution_count": 259,
   "id": "b5e87a23-8bb5-4ea2-99e5-de09c5acabca",
   "metadata": {},
   "outputs": [],
   "source": [
    "numbers = [1, 2, 3, 4, 5]"
   ]
  },
  {
   "cell_type": "code",
   "execution_count": 261,
   "id": "a617b119-4d7e-4312-9a11-aa06ca4d0f8a",
   "metadata": {},
   "outputs": [
    {
     "name": "stdout",
     "output_type": "stream",
     "text": [
      "1\n",
      "2\n",
      "3\n",
      "4\n",
      "5\n",
      "All numbers have been printed.\n"
     ]
    }
   ],
   "source": [
    "for number in numbers:\n",
    "    print(number)\n",
    "else:\n",
    "    print(\"All numbers have been printed.\")"
   ]
  },
  {
   "cell_type": "code",
   "execution_count": null,
   "id": "9131f2e7-4fb4-4cb4-b4b9-aee8223ff12c",
   "metadata": {},
   "outputs": [],
   "source": [
    "Exercise 10: While Loop"
   ]
  },
  {
   "cell_type": "code",
   "execution_count": 264,
   "id": "3662b7ef-9198-4e64-9bbd-c08f30c6753a",
   "metadata": {},
   "outputs": [],
   "source": [
    "counter = 1"
   ]
  },
  {
   "cell_type": "code",
   "execution_count": 266,
   "id": "af91afba-0def-4a89-a8a4-cc980703c6fe",
   "metadata": {},
   "outputs": [
    {
     "name": "stdout",
     "output_type": "stream",
     "text": [
      "1\n",
      "2\n",
      "3\n",
      "4\n",
      "5\n",
      "Loop finished.\n"
     ]
    }
   ],
   "source": [
    "while counter <= 5:\n",
    "    print(counter)\n",
    "    counter += 1\n",
    "else:\n",
    "    print(\"Loop finished.\")"
   ]
  },
  {
   "cell_type": "code",
   "execution_count": null,
   "id": "87c9b13a-52a3-4b02-9e06-fb3d3436cf3e",
   "metadata": {},
   "outputs": [],
   "source": [
    "Exercise 11: Match Statement"
   ]
  },
  {
   "cell_type": "code",
   "execution_count": 288,
   "id": "cd6be51c-3b59-4892-9316-14765532c268",
   "metadata": {},
   "outputs": [],
   "source": [
    "command= \"B\""
   ]
  },
  {
   "cell_type": "code",
   "execution_count": 290,
   "id": "faecec50-1216-49c9-9f5e-3b5c6a7c98ec",
   "metadata": {},
   "outputs": [
    {
     "name": "stdout",
     "output_type": "stream",
     "text": [
      "Good job!\n"
     ]
    }
   ],
   "source": [
    "match command:\n",
    "   case \"A\":\n",
    "    print(\"Excellent!\")\n",
    "   case \"B\":\n",
    "    print(\"Good job!\")\n",
    "   case \"C\":\n",
    "    print(\"Fair.\")\n",
    "   case \"D\":\n",
    "    print(\"Needs improvement.\")\n",
    "   case \"F\":\n",
    "    print(\"Failing.\")\n",
    "   case _:\n",
    "    print(\"Unknown command.\")"
   ]
  },
  {
   "cell_type": "code",
   "execution_count": 292,
   "id": "dd90354c-ea7f-4b34-a723-9ea1b763c982",
   "metadata": {},
   "outputs": [],
   "source": [
    "command= \"M\""
   ]
  },
  {
   "cell_type": "code",
   "execution_count": 294,
   "id": "abdf6422-db98-4e4e-9ecf-5c6ac3116367",
   "metadata": {},
   "outputs": [
    {
     "name": "stdout",
     "output_type": "stream",
     "text": [
      "Unknown command.\n"
     ]
    }
   ],
   "source": [
    "match command:\n",
    "   case \"A\":\n",
    "    print(\"Excellent!\")\n",
    "   case \"B\":\n",
    "    print(\"Good job!\")\n",
    "   case \"C\":\n",
    "    print(\"Fair.\")\n",
    "   case \"D\":\n",
    "    print(\"Needs improvement.\")\n",
    "   case \"F\":\n",
    "    print(\"Failing.\")\n",
    "   case _:\n",
    "    print(\"Unknown command.\")"
   ]
  },
  {
   "cell_type": "code",
   "execution_count": null,
   "id": "2c85c35f-2798-47a1-a57c-e18f797e20bd",
   "metadata": {},
   "outputs": [],
   "source": [
    "Exercise 12: Define a Function"
   ]
  },
  {
   "cell_type": "code",
   "execution_count": 296,
   "id": "92249830-f019-44d5-ad88-c13b7283a629",
   "metadata": {},
   "outputs": [],
   "source": [
    "name = \"Carla\""
   ]
  },
  {
   "cell_type": "code",
   "execution_count": 304,
   "id": "fa5137b8-aa38-4e83-b022-ad68aab93e91",
   "metadata": {},
   "outputs": [
    {
     "name": "stdout",
     "output_type": "stream",
     "text": [
      "Hello, Carla!\n"
     ]
    }
   ],
   "source": [
    "print(f\"Hello, {name}!\")"
   ]
  },
  {
   "cell_type": "code",
   "execution_count": null,
   "id": "efd61b58-41ea-40f2-9d9b-736211c9b76e",
   "metadata": {},
   "outputs": [],
   "source": [
    "Exercise 13: Function with Return Value"
   ]
  },
  {
   "cell_type": "code",
   "execution_count": 2,
   "id": "39cb63eb-13a1-48c1-96b3-deb8185e91f5",
   "metadata": {},
   "outputs": [],
   "source": [
    "def square(number):\n",
    "    return number ** 2"
   ]
  },
  {
   "cell_type": "code",
   "execution_count": 4,
   "id": "e8f0fa89-a2e3-4554-a7b6-ed535281802a",
   "metadata": {},
   "outputs": [
    {
     "name": "stdout",
     "output_type": "stream",
     "text": [
      "4\n"
     ]
    }
   ],
   "source": [
    "print(square(2))"
   ]
  },
  {
   "cell_type": "code",
   "execution_count": 6,
   "id": "b71d44fa-1fc2-448d-8985-e341e2719a41",
   "metadata": {},
   "outputs": [
    {
     "name": "stdout",
     "output_type": "stream",
     "text": [
      "1\n"
     ]
    }
   ],
   "source": [
    "print(square(-1))"
   ]
  },
  {
   "cell_type": "code",
   "execution_count": 8,
   "id": "f5bd1bf4-4901-47ac-b49e-a625c9d05576",
   "metadata": {},
   "outputs": [
    {
     "name": "stdout",
     "output_type": "stream",
     "text": [
      "0\n"
     ]
    }
   ],
   "source": [
    "print(square(0))"
   ]
  },
  {
   "cell_type": "code",
   "execution_count": null,
   "id": "a94ad248-b5aa-41f4-827f-eb8f33524117",
   "metadata": {},
   "outputs": [],
   "source": [
    "Exercise 14: Function with Default Parameters"
   ]
  },
  {
   "cell_type": "code",
   "execution_count": 26,
   "id": "ebaa260e-76e2-4b7a-8538-2da60c6a0fc7",
   "metadata": {},
   "outputs": [],
   "source": [
    "def multiply(a, b=1):\n",
    "    return a * b"
   ]
  },
  {
   "cell_type": "code",
   "execution_count": 28,
   "id": "13e7b7d0-87d8-4388-afb6-6320264ea7c1",
   "metadata": {},
   "outputs": [
    {
     "name": "stdout",
     "output_type": "stream",
     "text": [
      "3\n"
     ]
    }
   ],
   "source": [
    "print(multiply(3, 1))"
   ]
  },
  {
   "cell_type": "code",
   "execution_count": 30,
   "id": "0f3898ce-4ee7-4c8e-9886-35b9d1e321bc",
   "metadata": {},
   "outputs": [
    {
     "name": "stdout",
     "output_type": "stream",
     "text": [
      "5\n"
     ]
    }
   ],
   "source": [
    "print(multiply(5))"
   ]
  },
  {
   "cell_type": "code",
   "execution_count": null,
   "id": "18d060f0-4416-4c25-a50b-2188e9aeda3e",
   "metadata": {},
   "outputs": [],
   "source": [
    "Exercise 15: List Comprehension"
   ]
  },
  {
   "cell_type": "code",
   "execution_count": 40,
   "id": "1424971d-647f-4343-aab7-df5c6ac90597",
   "metadata": {},
   "outputs": [],
   "source": [
    "numbers = [1, 2, 3, 4, 5, 6, 7, 8, 9, 10]"
   ]
  },
  {
   "cell_type": "code",
   "execution_count": 42,
   "id": "1c2b2701-ca06-4430-9bd3-02715ae9d003",
   "metadata": {},
   "outputs": [],
   "source": [
    "squares = [number ** 2 for number in numbers]"
   ]
  },
  {
   "cell_type": "code",
   "execution_count": 44,
   "id": "7ce9cb06-1b82-416f-b525-2889b5b1d750",
   "metadata": {},
   "outputs": [
    {
     "name": "stdout",
     "output_type": "stream",
     "text": [
      "[1, 4, 9, 16, 25, 36, 49, 64, 81, 100]\n"
     ]
    }
   ],
   "source": [
    "print(squares)"
   ]
  },
  {
   "cell_type": "code",
   "execution_count": null,
   "id": "29b52228-e94f-48ec-9b22-f0915bdacb77",
   "metadata": {},
   "outputs": [],
   "source": [
    "Exercise 16: Nested Data Structures"
   ]
  },
  {
   "cell_type": "code",
   "execution_count": 112,
   "id": "618af712-b6dd-4158-8efd-0546da0131af",
   "metadata": {},
   "outputs": [],
   "source": [
    "students = {\"Ana\": [8.5, 7.4, 6.9, 9.3], \"Paul\": [5.5, 3.7, 4.9, 9.8]}"
   ]
  },
  {
   "cell_type": "code",
   "execution_count": 114,
   "id": "ac044516-724b-4bc9-902e-3831c2e78767",
   "metadata": {},
   "outputs": [],
   "source": [
    "def average_grades(students):\n",
    "    for student, grades in students.items():\n",
    "        print(f\"{student}, {sum(grades) / len(grades):.2f}\")"
   ]
  },
  {
   "cell_type": "code",
   "execution_count": 116,
   "id": "fb781b52-b891-4a8b-9247-78d2469e965a",
   "metadata": {},
   "outputs": [
    {
     "name": "stdout",
     "output_type": "stream",
     "text": [
      "Ana, 8.03\n",
      "Paul, 5.98\n"
     ]
    }
   ],
   "source": [
    "average_grades(students)"
   ]
  },
  {
   "cell_type": "code",
   "execution_count": null,
   "id": "360a3cdf-dfc9-49ad-a012-d5429f91ee68",
   "metadata": {},
   "outputs": [],
   "source": [
    "Exercise 17: Simple Calculator"
   ]
  },
  {
   "cell_type": "code",
   "execution_count": 126,
   "id": "33397bf4-a9f3-4acc-a895-e0c68c535797",
   "metadata": {},
   "outputs": [],
   "source": [
    "calculate = 3 + 7"
   ]
  },
  {
   "cell_type": "code",
   "execution_count": 133,
   "id": "fb8c38ac-e1f2-4bb8-91da-b512a7aa72f1",
   "metadata": {},
   "outputs": [],
   "source": [
    "def calculate(num1, num2, operator):\n",
    "    if operator == '+':\n",
    "        return num1 + num2\n",
    "    elif operator == '-':\n",
    "        return num1 - num2\n",
    "    elif operator == '*':\n",
    "        return num1 * num2\n",
    "    elif operator == '/':\n",
    "        if num2 != 0:\n",
    "            return num1 / num2\n",
    "        else:\n",
    "            return \"Error: Division by zero\"\n",
    "    else:\n",
    "        return \"Error: Invalid operator\""
   ]
  },
  {
   "cell_type": "code",
   "execution_count": 139,
   "id": "898adf37-2fb0-41e5-bf65-5c7cf9e102b0",
   "metadata": {},
   "outputs": [
    {
     "name": "stdout",
     "output_type": "stream",
     "text": [
      "8\n"
     ]
    }
   ],
   "source": [
    "print(calculate(3,5,\"+\"))"
   ]
  },
  {
   "cell_type": "code",
   "execution_count": 141,
   "id": "c38a130b-efce-4445-9e74-fe7aadaf6fca",
   "metadata": {},
   "outputs": [
    {
     "name": "stdout",
     "output_type": "stream",
     "text": [
      "Error: Division by zero\n"
     ]
    }
   ],
   "source": [
    "print(calculate(4,0,\"/\"))"
   ]
  },
  {
   "cell_type": "code",
   "execution_count": null,
   "id": "88ad3997-1571-46bb-94a1-1474834580f4",
   "metadata": {},
   "outputs": [],
   "source": []
  }
 ],
 "metadata": {
  "kernelspec": {
   "display_name": "Python 3 (ipykernel)",
   "language": "python",
   "name": "python3"
  },
  "language_info": {
   "codemirror_mode": {
    "name": "ipython",
    "version": 3
   },
   "file_extension": ".py",
   "mimetype": "text/x-python",
   "name": "python",
   "nbconvert_exporter": "python",
   "pygments_lexer": "ipython3",
   "version": "3.12.4"
  }
 },
 "nbformat": 4,
 "nbformat_minor": 5
}
